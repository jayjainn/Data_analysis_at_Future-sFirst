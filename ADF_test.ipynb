{
 "cells": [
  {
   "cell_type": "code",
   "execution_count": null,
   "id": "8a050140-732c-473e-9768-fdddd4321028",
   "metadata": {},
   "outputs": [],
   "source": [
    "import pandas as pd\n",
    "from statsmodels.tsa.stattools import adfuller\n",
    "\n",
    "# ------------------------------\n",
    "# Load and Clean Data\n",
    "# ------------------------------\n",
    "df = pd.read_csv(\"C:/Users/jay.jain/Desktop/Codes - Jay/Assignment 1/YBAc1.csv\")\n",
    "df.columns = ['Ticker1', 'Ticker2', 'Description', 'Timestamp', 'Col5', 'Frequency', \n",
    "              'Open', 'High', 'Low', 'Close', 'Volume']\n",
    "\n",
    "df[\"Timestamp\"] = pd.to_datetime(df[\"Timestamp\"], errors='coerce')\n",
    "df = df.dropna(subset=[\"Timestamp\"])\n",
    "df = df.sort_values(\"Timestamp\")\n",
    "df = df[(df[\"Timestamp\"].dt.year >= 2023) & (df[\"Timestamp\"].dt.year <= 2024)]\n",
    "df.set_index(\"Timestamp\", inplace=True)\n",
    "\n",
    "# ------------------------------\n",
    "# Run Augmented Dickey-Fuller Test\n",
    "# ------------------------------\n",
    "adf_result = adfuller(df[\"Close\"].dropna())\n",
    "\n",
    "# ------------------------------\n",
    "# Display Results\n",
    "# ------------------------------\n",
    "print(\"ADF Statistic:      \", adf_result[0])\n",
    "print(\"p-value:            \", adf_result[1])\n",
    "print(\"Number of Lags:     \", adf_result[2])\n",
    "print(\"Num of Observations:\", adf_result[3])\n",
    "print(\"Critical Values:\")\n",
    "for key, value in adf_result[4].items():\n",
    "    print(f\"   {key}: {value:.4f}\")\n",
    "\n",
    "# ------------------------------\n",
    "# Interpretation\n",
    "# ------------------------------\n",
    "if adf_result[1] < 0.05:\n",
    "    print(\"\\n✅ The series is likely **stationary** (mean-reverting) at 5% significance.\")\n",
    "else:\n",
    "    print(\"\\n❌ The series is likely **non-stationary** (not mean-reverting).\")"
   ]
  }
 ],
 "metadata": {
  "kernelspec": {
   "display_name": "Python 3 (ipykernel)",
   "language": "python",
   "name": "python3"
  },
  "language_info": {
   "codemirror_mode": {
    "name": "ipython",
    "version": 3
   },
   "file_extension": ".py",
   "mimetype": "text/x-python",
   "name": "python",
   "nbconvert_exporter": "python",
   "pygments_lexer": "ipython3",
   "version": "3.12.4"
  }
 },
 "nbformat": 4,
 "nbformat_minor": 5
}
