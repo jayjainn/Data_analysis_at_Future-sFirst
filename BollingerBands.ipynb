{
 "cells": [
  {
   "cell_type": "code",
   "execution_count": null,
   "id": "1f625259-e29b-4a0a-9788-1a8aa076b7ac",
   "metadata": {},
   "outputs": [],
   "source": [
    "import pandas as pd\n",
    "import matplotlib.pyplot as plt\n",
    "\n",
    "# Load Data\n",
    "df = pd.read_csv(\"C:/Users/jay.jain/Desktop/Codes - Jay/Assignment 1/FEIcm1.csv\")\n",
    "df.columns = ['Ticker1', 'Ticker2', 'Description', 'Timestamp', 'Col5', 'Frequency',\n",
    "              'Open', 'High', 'Low', 'Close', 'Volume']\n",
    "\n",
    "df[\"Timestamp\"] = pd.to_datetime(df[\"Timestamp\"], errors='coerce')\n",
    "df = df.dropna(subset=[\"Timestamp\"]).sort_values(\"Timestamp\")\n",
    "df = df[(df[\"Timestamp\"].dt.year >= 2023) & (df[\"Timestamp\"].dt.year <= 2024)]\n",
    "df.set_index(\"Timestamp\", inplace=True)\n",
    "\n",
    "# ------------------------------\n",
    "# Weekly Resampling\n",
    "# ------------------------------\n",
    "weekly = df['Close'].resample('W-FRI').last().dropna()\n",
    "weekly = weekly.to_frame(name='Close')\n",
    "\n",
    "# Bollinger Bands (Weekly)\n",
    "window = 20\n",
    "weekly['MA'] = weekly['Close'].rolling(window).mean()\n",
    "weekly['STD'] = weekly['Close'].rolling(window).std()\n",
    "weekly['Upper'] = weekly['MA'] + 2 * weekly['STD']\n",
    "weekly['Lower'] = weekly['MA'] - 2 * weekly['STD']\n",
    "weekly['BBW'] = (weekly['Upper'] - weekly['Lower']) / weekly['MA']\n",
    "\n",
    "# Re-entry Logic\n",
    "weekly['OutsideLower'] = weekly['Close'] < weekly['Lower']\n",
    "weekly['ReentryLong'] = (weekly['Close'] > weekly['Lower']) & (weekly['OutsideLower'].shift(1) == True)\n",
    "\n",
    "weekly['OutsideUpper'] = weekly['Close'] > weekly['Upper']\n",
    "weekly['ReentryShort'] = (weekly['Close'] < weekly['Upper']) & (weekly['OutsideUpper'].shift(1) == True)\n",
    "\n",
    "# ------------------------------\n",
    "# Plot\n",
    "# ------------------------------\n",
    "plt.figure(figsize=(14, 6))\n",
    "plt.plot(weekly.index, weekly['Close'], label='Weekly Close', color='black')\n",
    "plt.plot(weekly.index, weekly['Upper'], linestyle='--', color='red', label='Upper Band')\n",
    "plt.plot(weekly.index, weekly['Lower'], linestyle='--', color='green', label='Lower Band')\n",
    "plt.fill_between(weekly.index, weekly['Upper'], weekly['Lower'], color='gray', alpha=0.1)\n",
    "\n",
    "# Re-entry signals\n",
    "#plt.scatter(weekly[weekly['ReentryLong']].index, weekly[weekly['ReentryLong']]['Close'],\n",
    " #           color='blue', marker='^', s=100, label='Re-entry Long')\n",
    "#plt.scatter(weekly[weekly['ReentryShort']].index, weekly[weekly['ReentryShort']]['Close'],\n",
    "  #          color='orange', marker='v', s=100, label='Re-entry Short')\n",
    "\n",
    "plt.title(\"Weekly Bollinger Bands (2012–2015)\")\n",
    "plt.xlabel(\"Date\")\n",
    "plt.ylabel(\"Price\")\n",
    "plt.legend()\n",
    "plt.tight_layout()\n",
    "plt.show()"
   ]
  }
 ],
 "metadata": {
  "kernelspec": {
   "display_name": "Python 3 (ipykernel)",
   "language": "python",
   "name": "python3"
  },
  "language_info": {
   "codemirror_mode": {
    "name": "ipython",
    "version": 3
   },
   "file_extension": ".py",
   "mimetype": "text/x-python",
   "name": "python",
   "nbconvert_exporter": "python",
   "pygments_lexer": "ipython3",
   "version": "3.12.4"
  }
 },
 "nbformat": 4,
 "nbformat_minor": 5
}
