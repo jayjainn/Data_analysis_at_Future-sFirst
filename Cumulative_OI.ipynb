{
 "cells": [
  {
   "cell_type": "code",
   "execution_count": null,
   "id": "e0f83d2a-7738-4ca6-9c43-8a57062279a2",
   "metadata": {},
   "outputs": [],
   "source": [
    "import pandas as pd\n",
    "import matplotlib.pyplot as plt\n",
    "\n",
    "# ------------------------------\n",
    "# Load and Prepare OI Data\n",
    "# ------------------------------\n",
    "oi_df = pd.read_csv(\"C:/Users/jay.jain/Desktop/Codes - Jay/Assignment 1/YBA OI.csv\", skiprows=[0])\n",
    "oi_df.rename(columns={oi_df.columns[0]: \"Date\", oi_df.columns[1]: \"Open Interest\"}, inplace=True)\n",
    "oi_df[\"Date\"] = pd.to_datetime(oi_df[\"Date\"], errors='coerce')\n",
    "oi_df[\"Open Interest\"] = pd.to_numeric(oi_df[\"Open Interest\"], errors='coerce')\n",
    "oi_df = oi_df[[\"Date\", \"Open Interest\"]].dropna()\n",
    "oi_df = oi_df[(oi_df[\"Date\"].dt.year >= 2012) & (oi_df[\"Date\"].dt.year <= 2015)]\n",
    "\n",
    "# Resample weekly\n",
    "oi_df = oi_df.set_index(\"Date\").resample(\"W\").last().dropna().reset_index()\n",
    "\n",
    "# ------------------------------\n",
    "# Compute OI Flow and Cumulative OI Flow\n",
    "# ------------------------------\n",
    "oi_df[\"OI Flow\"] = oi_df[\"Open Interest\"].diff().fillna(0)\n",
    "oi_df[\"Cumulative OI Flow\"] = oi_df[\"OI Flow\"].cumsum()\n",
    "\n",
    "# ------------------------------\n",
    "# Plot\n",
    "# ------------------------------\n",
    "plt.figure(figsize=(14, 6))\n",
    "\n",
    "# Plot Cumulative OI Flow\n",
    "plt.plot(oi_df[\"Date\"], oi_df[\"Cumulative OI Flow\"], color='darkblue', label=\"Cumulative OI Flow\", linewidth=2)\n",
    "\n",
    "# Optional: highlight 0 line\n",
    "plt.axhline(0, color='gray', linestyle='--', linewidth=1)\n",
    "\n",
    "plt.title(\"Cumulative OI Flow (Weekly) – Trend Confirmation or Reversal\")\n",
    "plt.xlabel(\"Date\")\n",
    "plt.ylabel(\"Cumulative OI Flow\")\n",
    "plt.legend()\n",
    "plt.grid(True)\n",
    "plt.tight_layout()\n",
    "plt.show()"
   ]
  }
 ],
 "metadata": {
  "kernelspec": {
   "display_name": "Python 3 (ipykernel)",
   "language": "python",
   "name": "python3"
  },
  "language_info": {
   "codemirror_mode": {
    "name": "ipython",
    "version": 3
   },
   "file_extension": ".py",
   "mimetype": "text/x-python",
   "name": "python",
   "nbconvert_exporter": "python",
   "pygments_lexer": "ipython3",
   "version": "3.12.4"
  }
 },
 "nbformat": 4,
 "nbformat_minor": 5
}
