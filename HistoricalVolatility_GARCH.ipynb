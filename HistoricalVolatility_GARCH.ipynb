{
 "cells": [
  {
   "cell_type": "code",
   "execution_count": 1,
   "id": "4c7bb3e3-e638-45e9-ab68-95411fe9c13a",
   "metadata": {},
   "outputs": [
    {
     "ename": "ModuleNotFoundError",
     "evalue": "No module named 'arch'",
     "output_type": "error",
     "traceback": [
      "\u001b[1;31m---------------------------------------------------------------------------\u001b[0m",
      "\u001b[1;31mModuleNotFoundError\u001b[0m                       Traceback (most recent call last)",
      "Cell \u001b[1;32mIn[1], line 4\u001b[0m\n\u001b[0;32m      2\u001b[0m \u001b[38;5;28;01mimport\u001b[39;00m \u001b[38;5;21;01mnumpy\u001b[39;00m \u001b[38;5;28;01mas\u001b[39;00m \u001b[38;5;21;01mnp\u001b[39;00m\n\u001b[0;32m      3\u001b[0m \u001b[38;5;28;01mimport\u001b[39;00m \u001b[38;5;21;01mmatplotlib\u001b[39;00m\u001b[38;5;21;01m.\u001b[39;00m\u001b[38;5;21;01mpyplot\u001b[39;00m \u001b[38;5;28;01mas\u001b[39;00m \u001b[38;5;21;01mplt\u001b[39;00m\n\u001b[1;32m----> 4\u001b[0m \u001b[38;5;28;01mfrom\u001b[39;00m \u001b[38;5;21;01march\u001b[39;00m \u001b[38;5;28;01mimport\u001b[39;00m arch_model\n\u001b[0;32m      6\u001b[0m \u001b[38;5;66;03m# ---------------------------------------------\u001b[39;00m\n\u001b[0;32m      7\u001b[0m \u001b[38;5;66;03m# Load & Preprocess Data\u001b[39;00m\n\u001b[0;32m      8\u001b[0m \u001b[38;5;66;03m# ---------------------------------------------\u001b[39;00m\n\u001b[0;32m      9\u001b[0m df \u001b[38;5;241m=\u001b[39m pd\u001b[38;5;241m.\u001b[39mread_csv(\u001b[38;5;124m\"\u001b[39m\u001b[38;5;124mC:/Users/Jay.jain/Desktop/Codes - Jay/Assignment 1/YBAc1.csv\u001b[39m\u001b[38;5;124m\"\u001b[39m)\n",
      "\u001b[1;31mModuleNotFoundError\u001b[0m: No module named 'arch'"
     ]
    }
   ],
   "source": [
    "import pandas as pd\n",
    "import numpy as np\n",
    "import matplotlib.pyplot as plt\n",
    "from arch import arch_model\n",
    "\n",
    "# ---------------------------------------------\n",
    "# Load & Preprocess Data\n",
    "# ---------------------------------------------\n",
    "df = pd.read_csv(\"C:/Users/jay.jain/Desktop/Codes - Jay/Assignment 1/YBAc1.csv\")\n",
    "\n",
    "# Fix columns\n",
    "df.columns = ['Ticker1', 'Ticker2', 'Description', 'Timestamp', 'Col5', 'Frequency',\n",
    "              'Open', 'High', 'Low', 'Close', 'Volume']\n",
    "\n",
    "# Clean and sort\n",
    "df['Timestamp'] = pd.to_datetime(df['Timestamp'], errors='coerce')\n",
    "df.dropna(subset=['Timestamp', 'Close'], inplace=True)\n",
    "df = df[(df['Timestamp'].dt.year >= 2012) & (df['Timestamp'].dt.year <= 2015)]\n",
    "df.sort_values('Timestamp', inplace=True)\n",
    "df.set_index('Timestamp', inplace=True)\n",
    "\n",
    "# ---------------------------------------------\n",
    "# Step 1: Calculate Daily Log Returns\n",
    "# ---------------------------------------------\n",
    "df['LogReturn'] = np.log(df['Close'] / df['Close'].shift(1))\n",
    "df.dropna(subset=['LogReturn'], inplace=True)\n",
    "\n",
    "# Step 1a: Calculate Historical Volatility (Rolling Std Dev)\n",
    "rolling_vol = df['LogReturn'].rolling(window=21).std() * np.sqrt(252)\n",
    "\n",
    "# Plot Historical Volatility\n",
    "plt.figure(figsize=(10, 4))\n",
    "rolling_vol.plot(title='Historical Volatility (21-day Rolling Std Dev Annualized)')\n",
    "plt.ylabel('Volatility')\n",
    "plt.xlabel('Date')\n",
    "plt.grid(True)\n",
    "plt.tight_layout()\n",
    "plt.show()\n",
    "\n",
    "# ---------------------------------------------\n",
    "# Step 2: Fit GARCH Model\n",
    "# ---------------------------------------------\n",
    "returns = df['LogReturn'] * 100  # Scale for better fitting\n",
    "\n",
    "model = arch_model(returns, vol='GARCH', p=1, q=1)\n",
    "res = model.fit(disp=\"off\")\n",
    "\n",
    "# Summary\n",
    "print(res.summary())\n",
    "\n",
    "# ---------------------------------------------\n",
    "# Step 3: Forecast Future Volatility\n",
    "# ---------------------------------------------\n",
    "forecast_horizon = 5  # days\n",
    "forecast = res.forecast(horizon=forecast_horizon)\n",
    "\n",
    "# Extract variance forecast\n",
    "variance_forecast = forecast.variance.iloc[-1]\n",
    "volatility_forecast = np.sqrt(variance_forecast)\n",
    "\n",
    "print(f\"\\nForecasted Volatility (next {forecast_horizon} days):\")\n",
    "print(volatility_forecast)\n",
    "\n",
    "# Plot volatility forecast\n",
    "plt.figure(figsize=(6, 3))\n",
    "plt.bar(range(1, forecast_horizon + 1), volatility_forecast.values)\n",
    "plt.title(f'{forecast_horizon}-Day Ahead Volatility Forecast (GARCH)')\n",
    "plt.xlabel('Day')\n",
    "plt.ylabel('Volatility (%)')\n",
    "plt.tight_layout()\n",
    "plt.grid(True)\n",
    "plt.show()"
   ]
  },
  {
   "cell_type": "code",
   "execution_count": null,
   "id": "2f4ec6c0-5d50-4d08-9437-f5af55353dcd",
   "metadata": {},
   "outputs": [],
   "source": []
  }
 ],
 "metadata": {
  "kernelspec": {
   "display_name": "Python 3 (ipykernel)",
   "language": "python",
   "name": "python3"
  },
  "language_info": {
   "codemirror_mode": {
    "name": "ipython",
    "version": 3
   },
   "file_extension": ".py",
   "mimetype": "text/x-python",
   "name": "python",
   "nbconvert_exporter": "python",
   "pygments_lexer": "ipython3",
   "version": "3.12.4"
  }
 },
 "nbformat": 4,
 "nbformat_minor": 5
}
