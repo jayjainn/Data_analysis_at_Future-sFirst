{
 "cells": [
  {
   "cell_type": "code",
   "execution_count": null,
   "id": "4e3146ce-d0bd-45e2-960d-35f4f276ea0c",
   "metadata": {},
   "outputs": [],
   "source": [
    "import pandas as pd\n",
    "import matplotlib.pyplot as plt\n",
    "\n",
    "# ------------------------------\n",
    "# Load OI Data\n",
    "# ------------------------------\n",
    "oi_df = pd.read_csv(\"C:/Users/jay.Jain/Desktop/Codes - Jay/Assignment 1/YBA OI.csv\", skiprows=[0])\n",
    "oi_df.rename(columns={oi_df.columns[0]: \"Date\", oi_df.columns[1]: \"Open Interest\"}, inplace=True)\n",
    "oi_df[\"Date\"] = pd.to_datetime(oi_df[\"Date\"], errors='coerce')\n",
    "oi_df[\"Open Interest\"] = pd.to_numeric(oi_df[\"Open Interest\"], errors='coerce')\n",
    "oi_df = oi_df.dropna()\n",
    "oi_df = oi_df.set_index(\"Date\").sort_index()\n",
    "\n",
    "# ------------------------------\n",
    "# Load Event Dates (example: FOMC, CPI)\n",
    "# ------------------------------\n",
    "event_dates = [\n",
    "    \"2013-06-19\", \"2014-01-29\", \"2015-09-17\", \"2015-06-08\"  # Replace with actual macro event dates\n",
    "]\n",
    "event_dates = pd.to_datetime(event_dates)\n",
    "\n",
    "# ------------------------------\n",
    "# Plot OI Trend Around Events\n",
    "# ------------------------------\n",
    "window = 10  # days before and after\n",
    "\n",
    "for event_date in event_dates:\n",
    "    start = event_date - pd.Timedelta(days=window)\n",
    "    end = event_date + pd.Timedelta(days=window)\n",
    "    subset = oi_df.loc[start:end]\n",
    "\n",
    "    plt.figure(figsize=(10, 4))\n",
    "    plt.plot(subset.index, subset[\"Open Interest\"], label=\"Open Interest\", color=\"darkblue\")\n",
    "    plt.axvline(event_date, color='red', linestyle='--', label=f\"Event: {event_date.date()}\")\n",
    "    plt.title(f\"OI Trend around Macro Event ({event_date.date()})\")\n",
    "    plt.xlabel(\"Date\")\n",
    "    plt.ylabel(\"Open Interest\")\n",
    "    plt.grid(True)\n",
    "    plt.legend()\n",
    "    plt.tight_layout()\n",
    "    plt.show()\n"
   ]
  }
 ],
 "metadata": {
  "kernelspec": {
   "display_name": "Python 3 (ipykernel)",
   "language": "python",
   "name": "python3"
  },
  "language_info": {
   "codemirror_mode": {
    "name": "ipython",
    "version": 3
   },
   "file_extension": ".py",
   "mimetype": "text/x-python",
   "name": "python",
   "nbconvert_exporter": "python",
   "pygments_lexer": "ipython3",
   "version": "3.12.4"
  }
 },
 "nbformat": 4,
 "nbformat_minor": 5
}
