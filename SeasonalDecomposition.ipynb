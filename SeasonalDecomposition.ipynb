{
 "cells": [
  {
   "cell_type": "code",
   "execution_count": null,
   "id": "76135ba4-9247-4086-8738-0bbb04ce9a84",
   "metadata": {},
   "outputs": [],
   "source": [
    "import pandas as pd\n",
    "import matplotlib.pyplot as plt\n",
    "from statsmodels.tsa.seasonal import STL\n",
    "\n",
    "# ------------------------------\n",
    "# Load Data\n",
    "# ------------------------------\n",
    "df = pd.read_csv(\"C:/Users/jay.jain/Desktop/Codes - Jay/Assignment 1/YBAc10.csv\")\n",
    "df.columns = ['Ticker1', 'Ticker2', 'Description', 'Timestamp', 'Col5', 'Frequency', \n",
    "              'Open', 'High', 'Low', 'Close', 'Volume']\n",
    "\n",
    "# Convert Timestamp to datetime and sort\n",
    "df[\"Timestamp\"] = pd.to_datetime(df[\"Timestamp\"], errors='coerce')\n",
    "df = df.dropna(subset=[\"Timestamp\"])\n",
    "df = df.sort_values(\"Timestamp\")\n",
    "\n",
    "# Filter data for years 2012 to 2015\n",
    "df = df[(df[\"Timestamp\"].dt.year >= 2023) & (df[\"Timestamp\"].dt.year <= 2024)]\n",
    "\n",
    "# Set timestamp as index\n",
    "df.set_index(\"Timestamp\", inplace=True)\n",
    "\n",
    "# Resample to daily frequency (to apply STL)\n",
    "daily_df = df.resample(\"D\").agg({\n",
    "    \"Open\": \"mean\",\n",
    "    \"Close\": \"mean\",\n",
    "    \"Volume\": \"sum\"\n",
    "}).dropna()\n",
    "\n",
    "# ------------------------------\n",
    "# STL Decomposition Function\n",
    "# ------------------------------\n",
    "def decompose_and_plot(series, title):\n",
    "    stl = STL(series, period=30)  # Assumes monthly seasonality in daily data\n",
    "    result = stl.fit()\n",
    "\n",
    "    result.plot()\n",
    "    plt.suptitle(f\"STL Decomposition of {title}\", fontsize=14)\n",
    "    plt.tight_layout()\n",
    "    plt.show()\n",
    "\n",
    "# ------------------------------\n",
    "# Apply STL Decomposition\n",
    "# ------------------------------\n",
    "decompose_and_plot(daily_df[\"Open\"], \"Open Price\")\n",
    "decompose_and_plot(daily_df[\"Close\"], \"Close Price\")\n",
    "decompose_and_plot(daily_df[\"Volume\"], \"Volume\")"
   ]
  }
 ],
 "metadata": {
  "kernelspec": {
   "display_name": "Python 3 (ipykernel)",
   "language": "python",
   "name": "python3"
  },
  "language_info": {
   "codemirror_mode": {
    "name": "ipython",
    "version": 3
   },
   "file_extension": ".py",
   "mimetype": "text/x-python",
   "name": "python",
   "nbconvert_exporter": "python",
   "pygments_lexer": "ipython3",
   "version": "3.12.4"
  }
 },
 "nbformat": 4,
 "nbformat_minor": 5
}
