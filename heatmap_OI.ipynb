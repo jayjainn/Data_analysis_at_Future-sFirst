{
 "cells": [
  {
   "cell_type": "code",
   "execution_count": null,
   "id": "5b9fdba1-209e-41ca-8db1-d742b488b67d",
   "metadata": {},
   "outputs": [],
   "source": [
    "import pandas as pd\n",
    "import matplotlib.pyplot as plt\n",
    "import seaborn as sns\n",
    "import numpy as np\n",
    "\n",
    "# Load and preprocess OI data\n",
    "oi_df = pd.read_csv(\"C:/Users/jay.jain/Desktop/Codes - Jay/Assignment 1/YBA OI.csv\", skiprows=[0])\n",
    "oi_df.rename(columns={oi_df.columns[0]: \"Date\", oi_df.columns[1]: \"Open Interest\"}, inplace=True)\n",
    "oi_df[\"Date\"] = pd.to_datetime(oi_df[\"Date\"], errors='coerce')\n",
    "oi_df = oi_df.dropna(subset=[\"Date\", \"Open Interest\"])\n",
    "oi_df = oi_df.set_index(\"Date\").resample(\"W\").last().dropna().reset_index()\n",
    "\n",
    "# Load and preprocess Volume data\n",
    "pv_df = pd.read_csv(\"C:/Users/jay.jain/Desktop/Codes - Jay/Assignment 1/YBAC1.csv\")\n",
    "pv_df[\"Date\"] = pd.to_datetime(pv_df[\"Date-Time\"], errors='coerce').dt.tz_localize(None)\n",
    "pv_df = pv_df.dropna(subset=[\"Date\", \"Volume\"])\n",
    "pv_df = pv_df.set_index(\"Date\").resample(\"W\").sum().reset_index()\n",
    "\n",
    "# Merge OI and Volume\n",
    "merged = pd.merge(oi_df, pv_df, on=\"Date\", how=\"inner\")\n",
    "merged = merged[(merged[\"Date\"] >= \"2012-01-01\") & (merged[\"Date\"] <= \"2015-12-31\")]\n",
    "merged[\"Day\"] = merged[\"Date\"].dt.day\n",
    "merged[\"Month\"] = merged[\"Date\"].dt.month\n",
    "\n",
    "# Pivot table for heatmap\n",
    "heatmap_data = merged.pivot_table(index=\"Day\", columns=\"Month\", values=\"Open Interest\", aggfunc=\"mean\")\n",
    "\n",
    "# Clip extreme values to reduce skew in visualization\n",
    "vmin, vmax = np.percentile(heatmap_data.values.flatten(), [5, 95])\n",
    "heatmap_data_clipped = heatmap_data.clip(lower=vmin, upper=vmax)\n",
    "\n",
    "# Plot\n",
    "plt.figure(figsize=(12, 8))\n",
    "sns.heatmap(\n",
    "    heatmap_data_clipped,\n",
    "    cmap=\"YlGnBu\",\n",
    "    linewidths=0.5,\n",
    "    linecolor='gray',\n",
    "    cbar_kws={'label': 'Avg Open Interest'}\n",
    ")\n",
    "plt.title(\"Heatmap of Avg Weekly Open Interest (2012–2015)\")\n",
    "plt.xlabel(\"Month\")\n",
    "plt.ylabel(\"Day of Month\")\n",
    "plt.tight_layout()\n",
    "plt.show()"
   ]
  }
 ],
 "metadata": {
  "kernelspec": {
   "display_name": "Python 3 (ipykernel)",
   "language": "python",
   "name": "python3"
  },
  "language_info": {
   "codemirror_mode": {
    "name": "ipython",
    "version": 3
   },
   "file_extension": ".py",
   "mimetype": "text/x-python",
   "name": "python",
   "nbconvert_exporter": "python",
   "pygments_lexer": "ipython3",
   "version": "3.12.4"
  }
 },
 "nbformat": 4,
 "nbformat_minor": 5
}
