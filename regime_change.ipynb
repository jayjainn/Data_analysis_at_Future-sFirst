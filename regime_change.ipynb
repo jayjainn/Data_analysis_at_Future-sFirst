{
 "cells": [
  {
   "cell_type": "code",
   "execution_count": null,
   "id": "a58e6f31-df1b-4f47-934d-09d6db5ae877",
   "metadata": {},
   "outputs": [],
   "source": [
    "import pandas as pd\n",
    "import ruptures as rpt\n",
    "import matplotlib.pyplot as plt\n",
    "\n",
    "# Load your data (e.g., closing price from 2012–2015)\n",
    "df = pd.read_csv(\"YBAc12.csv\", header=None)\n",
    "df.columns = [\"Ticker1\", \"Ticker2\", \"Type\", \"Timestamp\", \"Unknown\", \"Freq\", \"Open\", \"High\", \"Low\", \"Close\", \"Volume\"]\n",
    "df[\"Timestamp\"] = pd.to_datetime(df[\"Timestamp\"])\n",
    "df = df[(df[\"Timestamp\"] >= \"2023-01-01\") & (df[\"Timestamp\"] <= \"2024-12-31\")]\n",
    "\n",
    "# Use 'Close' or log returns as series\n",
    "series = df[\"Close\"].astype(float).values\n",
    "\n",
    "# Apply the Bai-Perron equivalent: 'ruptures' Pelt algorithm with linear cost\n",
    "model = \"l2\"\n",
    "algo = rpt.Pelt(model=model).fit(series)\n",
    "breaks = algo.predict(pen=10)  # The penalty controls sensitivity\n",
    "\n",
    "# Plot result\n",
    "rpt.display(series, breaks)\n",
    "plt.title(\"Regime Change Detection (Bai-Perron Style)\")\n",
    "plt.xlabel(\"Time\")\n",
    "plt.ylabel(\"Close Price\")\n",
    "plt.show()"
   ]
  }
 ],
 "metadata": {
  "kernelspec": {
   "display_name": "Python 3 (ipykernel)",
   "language": "python",
   "name": "python3"
  },
  "language_info": {
   "codemirror_mode": {
    "name": "ipython",
    "version": 3
   },
   "file_extension": ".py",
   "mimetype": "text/x-python",
   "name": "python",
   "nbconvert_exporter": "python",
   "pygments_lexer": "ipython3",
   "version": "3.12.4"
  }
 },
 "nbformat": 4,
 "nbformat_minor": 5
}
