{
 "cells": [
  {
   "cell_type": "code",
   "execution_count": null,
   "id": "748acd57-a5db-4690-9ec1-e4cefb297d99",
   "metadata": {},
   "outputs": [],
   "source": [
    "import pandas as pd\n",
    "import numpy as np\n",
    "import matplotlib.pyplot as plt\n",
    "from scipy.fft import fft\n",
    "\n",
    "# ------------------------------\n",
    "# Load Data\n",
    "# ------------------------------\n",
    "df = pd.read_csv(\"C:/Users/jay.jain/Desktop/Codes - Jay/Assignment 1/FEIcm1.csv\")\n",
    "df.columns = ['Ticker1', 'Ticker2', 'Description', 'Timestamp', 'Col5', 'Frequency', \n",
    "              'Open', 'High', 'Low', 'Close', 'Volume']\n",
    "\n",
    "# Convert Timestamp to datetime and drop invalid rows\n",
    "df[\"Timestamp\"] = pd.to_datetime(df[\"Timestamp\"], errors='coerce')\n",
    "df = df.dropna(subset=[\"Timestamp\"])\n",
    "df = df.sort_values(\"Timestamp\")\n",
    "\n",
    "# Filter data for years 2012 to 2015\n",
    "df = df[(df[\"Timestamp\"].dt.year >= 2012) & (df[\"Timestamp\"].dt.year <= 2015)]\n",
    "\n",
    "# Set timestamp as index\n",
    "df.set_index(\"Timestamp\", inplace=True)\n",
    "\n",
    "# ------------------------------\n",
    "# Resample to Daily Mean\n",
    "# ------------------------------\n",
    "daily_open = df[\"Open\"].resample(\"D\").mean().dropna()\n",
    "\n",
    "# ------------------------------\n",
    "# Perform Spectral Analysis (FFT)\n",
    "# ------------------------------\n",
    "signal = daily_open.values\n",
    "n = len(signal)\n",
    "fft_values = fft(signal)\n",
    "power = np.abs(fft_values[:n//2])**2  # Only positive frequencies\n",
    "freq = np.fft.fftfreq(n, d=1)[:n//2]  # d=1 means daily sampling\n",
    "\n",
    "# Convert frequency to periods (days per cycle)\n",
    "with np.errstate(divide='ignore', invalid='ignore'):\n",
    "    periods = 1 / freq\n",
    "    periods[~np.isfinite(periods)] = 0  # Replace inf or NaN with 0 for plotting\n",
    "\n",
    "# ------------------------------\n",
    "# Plot Power Spectrum\n",
    "# ------------------------------\n",
    "plt.figure(figsize=(12, 5))\n",
    "plt.plot(periods, power, color='purple')\n",
    "plt.xlim(0, 365)  # Focus on cycles up to yearly\n",
    "plt.title(\"Spectral Analysis of Daily Open Price (2012–2015)\", fontsize=14)\n",
    "plt.xlabel(\"Period (Days per Cycle)\")\n",
    "plt.ylabel(\"Power (Amplitude²)\")\n",
    "plt.grid(True)\n",
    "plt.tight_layout()\n",
    "plt.show()"
   ]
  }
 ],
 "metadata": {
  "kernelspec": {
   "display_name": "Python 3 (ipykernel)",
   "language": "python",
   "name": "python3"
  },
  "language_info": {
   "codemirror_mode": {
    "name": "ipython",
    "version": 3
   },
   "file_extension": ".py",
   "mimetype": "text/x-python",
   "name": "python",
   "nbconvert_exporter": "python",
   "pygments_lexer": "ipython3",
   "version": "3.12.4"
  }
 },
 "nbformat": 4,
 "nbformat_minor": 5
}
